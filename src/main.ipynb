{
 "cells": [
  {
   "cell_type": "markdown",
   "id": "3fbbecd2",
   "metadata": {},
   "source": [
    "## 💧 Análise de Dados sobre Alagamentos no Rio de Janeiro\n",
    "\n",
    "Este projeto tem como objetivo aplicar técnicas de análise de dados para compreender o comportamento e a frequência de **alagamentos em diferentes bairros da cidade do Rio de Janeiro**. Através de dados (fictícios, para simulações ou públicos), buscamos relacionar a quantidade de chuva com a incidência de alagamentos, observando tendências e padrões que possam subsidiar tomadas de decisão em contextos urbanos e ambientais.\n",
    "\n",
    "### 🎯 Objetivos\n",
    "\n",
    "- Realizar uma análise exploratória de dados sobre alagamentos em regiões do Rio de Janeiro;\n",
    "- Identificar bairros mais afetados ao longo do tempo;\n",
    "- Investigar a relação entre índice pluviométrico e número de ocorrências de alagamentos;\n",
    "- Demonstrar o uso de ferramentas da ciência de dados em problemas reais.\n",
    "\n",
    "### 🧰 Tecnologias Utilizadas\n",
    "\n",
    "- **Python**: Linguagem principal para manipulação e análise de dados;\n",
    "- **Pandas**: Manipulação de dados em estruturas tabulares;\n",
    "- **NumPy**: Suporte a operações matemáticas e estatísticas;\n",
    "- **Matplotlib** e **Seaborn**: Visualização gráfica de dados;\n",
    "- **Jupyter Notebook**: Ambiente interativo para documentação e execução de código.\n",
    "\n",
    "### 🏫 Contexto Acadêmico\n",
    "\n",
    "Este projeto faz parte de uma **iniciativa de extensão universitária** da AMPLI. A proposta da extensão é aproximar o conhecimento científico da sociedade, formando estudantes mais conscientes, críticos e preparados para atuar com responsabilidade social e técnica.\n",
    "\n",
    "---\n",
    "\n",
    "🔍 *Este projeto pode ser expandido com dados reais e integrado a sistemas de alerta ou mapas interativos para fortalecer políticas públicas de prevenção a desastres naturais.*\n"
   ]
  },
  {
   "cell_type": "code",
   "execution_count": null,
   "id": "6cf05461",
   "metadata": {
    "vscode": {
     "languageId": "plaintext"
    }
   },
   "outputs": [],
   "source": [
    "# Análise de Dados sobre Alagamentos no Rio de Janeiro\n",
    "# ----------------------------------------------------\n",
    "# Este script utiliza pandas, numpy, matplotlib e seaborn para analisar dados\n",
    "# sobre alagamentos em bairros do Rio de Janeiro.\n",
    "\n",
    "import pandas as pd\n",
    "import numpy as np\n",
    "import matplotlib.pyplot as plt\n",
    "import seaborn as sns\n",
    "\n",
    "# Configurações de visualização\n",
    "sns.set(style='whitegrid')\n",
    "plt.rcParams['figure.figsize'] = (10, 6)\n",
    "\n",
    "# Dados fictícios\n",
    "data = {\n",
    "    'Bairro': ['Centro', 'Zona Sul', 'Zona Norte', 'Zona Oeste', 'Barra da Tijuca'],\n",
    "    'Incidencias_2022': [120, 90, 150, 80, 60],\n",
    "    'Incidencias_2023': [100, 110, 170, 85, 70],\n",
    "    'Media_Pluviometrica_mm': [130, 145, 160, 120, 110]\n",
    "}\n",
    "\n",
    "# Criar DataFrame\n",
    "df = pd.DataFrame(data)\n",
    "\n",
    "# Mostrar o DataFrame\n",
    "print(\"Dados de Alagamentos:\")\n",
    "print(df)\n",
    "\n",
    "# Estatísticas descritivas\n",
    "print(\"\\nEstatísticas Descritivas:\")\n",
    "print(df.describe())\n",
    "\n",
    "# Visualização das ocorrências por bairro\n",
    "df.set_index('Bairro')[['Incidencias_2022', 'Incidencias_2023']].plot(kind='bar')\n",
    "plt.title('Incidência de Alagamentos por Bairro (2022 vs 2023)')\n",
    "plt.ylabel('Número de Ocorrências')\n",
    "plt.xlabel('Bairro')\n",
    "plt.xticks(rotation=45)\n",
    "plt.tight_layout()\n",
    "plt.show()\n",
    "\n",
    "# Correlação entre pluviometria e alagamentos em 2023\n",
    "correlation = df['Media_Pluviometrica_mm'].corr(df['Incidencias_2023'])\n",
    "print(f\"\\nCorrelação entre chuva e alagamentos em 2023: {correlation:.2f}\")\n"
   ]
  }
 ],
 "metadata": {
  "language_info": {
   "name": "python"
  }
 },
 "nbformat": 4,
 "nbformat_minor": 5
}
